{
  "nbformat": 4,
  "nbformat_minor": 0,
  "metadata": {
    "colab": {
      "provenance": []
    },
    "kernelspec": {
      "name": "python3",
      "display_name": "Python 3"
    },
    "language_info": {
      "name": "python"
    }
  },
  "cells": [
    {
      "cell_type": "code",
      "execution_count": null,
      "metadata": {
        "id": "AuXuGCygmLNG"
      },
      "outputs": [],
      "source": [
        "#1\n",
        "from typing import List\n",
        "\n",
        "\n",
        "def twoSum(nums: List[int], target: int) -> List[int]:\n",
        "    # List to store results\n",
        "    result = []\n",
        "    # Dictionary to store the difference and its index\n",
        "    index_map = {}\n",
        "    # Loop for each element\n",
        "    for i, n in enumerate(nums):\n",
        "        # Difference which needs to be checked\n",
        "        difference = target - n\n",
        "        if difference in index_map:\n",
        "            result.append(i)\n",
        "            result.append(index_map[difference])\n",
        "            break\n",
        "        else:\n",
        "            index_map[n] = i\n",
        "    return result"
      ]
    },
    {
      "cell_type": "code",
      "source": [
        "#2\n",
        "class RemoveElement:\n",
        "    def removeElement(nums: List[int], val: int) -> int:\n",
        "        # Counter for keeping track of elements other than val\n",
        "        count = 0\n",
        "        # Loop through all the elements of the array\n",
        "        for i in range(len(nums)):\n",
        "            if nums[i] != val:\n",
        "                # If the element is not val\n",
        "                nums[count] = nums[i]\n",
        "                count += 1\n",
        "        return count\n"
      ],
      "metadata": {
        "id": "WiceCTYjmPn-"
      },
      "execution_count": null,
      "outputs": []
    },
    {
      "cell_type": "code",
      "source": [
        "#3\n",
        "# Python program for the above approach\n",
        " \n",
        "# Function to find insert position of K\n",
        "def find_index(arr, n, K):\n",
        "     \n",
        "    # Traverse the array\n",
        "    for i in range(n):\n",
        "         \n",
        "        # If K is found\n",
        "        if arr[i] == K:\n",
        "            return i\n",
        "             \n",
        "        # If arr[i] exceeds K\n",
        "        elif arr[i] > K:\n",
        "            return i\n",
        "             \n",
        "    # If all array elements are smaller\n",
        "    return n\n",
        " \n",
        "# Driver Code\n",
        "arr = [1, 3, 5, 6]\n",
        "n = len(arr)\n",
        "K = 2\n",
        "print(find_index(arr, n, K))"
      ],
      "metadata": {
        "id": "Apad3TgpmPqw"
      },
      "execution_count": null,
      "outputs": []
    },
    {
      "cell_type": "code",
      "source": [
        "#4\n",
        "class Solution(object):\n",
        "    def plusOne(self, digits):\n",
        "        \"\"\"\n",
        "        :type digits: List[int]\n",
        "        :rtype: List[int]\n",
        "        \"\"\"\n",
        "        digit_length = len(digits)\n",
        "        \n",
        "        i = digit_length - 1\n",
        "        \n",
        "        while digits[i] == 9 and i >= 0:\n",
        "            i -= 1\n",
        "        \n",
        "        if i == -1:\n",
        "            results = [0]*(digit_length + 1)\n",
        "            results[0] = 1\n",
        "            return results\n",
        "        \n",
        "        results = [0]*(digit_length)\n",
        "        \n",
        "        results[i] = digits[i] + 1\n",
        "        \n",
        "        for j in range(i-1, -1, -1):\n",
        "            results[j] = digits[j]\n",
        "        \n",
        "        return result"
      ],
      "metadata": {
        "id": "ZFveD4YcmPtP"
      },
      "execution_count": null,
      "outputs": []
    },
    {
      "cell_type": "code",
      "source": [
        "#5\n",
        "class Solution:\n",
        "    def merge(self, nums1: List[int], m: int, nums2: List[int], n: int) -> None:\n",
        "        k = m + n - 1\n",
        "        i, j = m - 1, n - 1\n",
        "        while j >= 0:\n",
        "            if i >= 0 and nums1[i] > nums2[j]:\n",
        "                nums1[k] = nums1[i]\n",
        "                i -= 1\n",
        "            else:\n",
        "                nums1[k] = nums2[j]\n",
        "                j -= 1\n",
        "            k -= 1"
      ],
      "metadata": {
        "id": "YnonbL8BmPve"
      },
      "execution_count": null,
      "outputs": []
    },
    {
      "cell_type": "code",
      "source": [
        "#6\n",
        "class Solution:\n",
        "    def containsDuplicate(self, nums: List[int]) -> bool:\n",
        "        for i in range(len(nums)):\n",
        "            for j in range(0, i):\n",
        "                if nums[i] == nums[j]:\n",
        "                    return True\n",
        "        return False"
      ],
      "metadata": {
        "id": "rit29n_BmPxy"
      },
      "execution_count": null,
      "outputs": []
    },
    {
      "cell_type": "code",
      "source": [
        "#8\n",
        "class Solution:\n",
        "    def findErrorNums(self, nums: List[int]) -> List[int]:\n",
        "        N, dupe = len(nums), 0\n",
        "        seen, sumN = [0] * (N+1), N * (N+1) // 2\n",
        "        for num in nums:\n",
        "            sumN -= num\n",
        "            if seen[num]: dupe = num\n",
        "            seen[num] += 1\n",
        "        return [dupe, sumN + dupe]"
      ],
      "metadata": {
        "id": "WPkkLyzCmP0T"
      },
      "execution_count": null,
      "outputs": []
    },
    {
      "cell_type": "code",
      "source": [],
      "metadata": {
        "id": "Xe6UagdemP2s"
      },
      "execution_count": null,
      "outputs": []
    },
    {
      "cell_type": "code",
      "source": [],
      "metadata": {
        "id": "xasIupw7mP6B"
      },
      "execution_count": null,
      "outputs": []
    }
  ]
}
