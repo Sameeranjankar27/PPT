{
  "nbformat": 4,
  "nbformat_minor": 0,
  "metadata": {
    "colab": {
      "provenance": []
    },
    "kernelspec": {
      "name": "python3",
      "display_name": "Python 3"
    },
    "language_info": {
      "name": "python"
    }
  },
  "cells": [
    {
      "cell_type": "code",
      "execution_count": null,
      "metadata": {
        "id": "8PtEnV7u5gjQ"
      },
      "outputs": [],
      "source": [
        "'''\n",
        "Given a non-negative integer `x`, return *the square root of* `x` *rounded down to the nearest integer*. The returned integer should be **non-negative** as well.\n",
        "\n",
        "You **must not use** any built-in exponent function or operator.\n",
        "\n",
        "- For example, do not use `pow(x, 0.5)` in c++ or `x ** 0.5` in python.\n",
        "'''\n",
        "\n",
        "\n",
        "# Python3 program to find floor(sqrt(x)\n",
        "\n",
        "# Returns floor of square root of x\n",
        "\n",
        "\n",
        "def floorSqrt(x):\n",
        "\n",
        "    # Base cases\n",
        "    if (x == 0 or x == 1):\n",
        "        return x\n",
        "\n",
        "    # Starting from 1, try all numbers until\n",
        "    # i*i is greater than or equal to x.\n",
        "    i = 1\n",
        "    result = 1\n",
        "    while (result <= x):\n",
        "\n",
        "        i += 1\n",
        "        result = i * i"
      ]
    },
    {
      "cell_type": "code",
      "source": [
        "'''\n",
        "A peak element is an element that is strictly greater than its neighbors.\n",
        "\n",
        "Given a **0-indexed** integer array `nums`, find a peak element, and return its index. If the array contains multiple peaks, return the index to **any of the peaks**.\n",
        "\n",
        "You may imagine that `nums[-1] = nums[n] = -∞`. In other words, an element is always considered to be strictly greater than a neighbor that is outside the array.\n",
        "\n",
        "You must write an algorithm that runs in `O(log n)` time.\n",
        "'''\n",
        "\n",
        "# A Python3 program to find a peak element\n",
        "\n",
        "# Find the peak element in the array\n",
        "def findPeak(arr, n) :\n",
        "\n",
        "    # first or last element is peak element\n",
        "    if (n == 1) :\n",
        "      return 0\n",
        "    if (arr[0] >= arr[1]) :\n",
        "        return 0\n",
        "    if (arr[n - 1] >= arr[n - 2]) :\n",
        "        return n - 1\n",
        "\n",
        "    # check for every other element\n",
        "    for i in range(1, n - 1) :\n",
        "\n",
        "        # check if the neighbors are smaller\n",
        "        if (arr[i] >= arr[i - 1] and arr[i] >= arr[i + 1]) :\n",
        "            return i\n",
        "\n",
        "# Driver code.\n",
        "arr = [ 1, 3, 20, 4, 1, 0 ]\n",
        "n = len(arr)\n",
        "print(\"Index of a peak point is\", findPeak(arr, n))"
      ],
      "metadata": {
        "id": "DUxP52fL58r1"
      },
      "execution_count": null,
      "outputs": []
    },
    {
      "cell_type": "code",
      "source": [
        "'''\n",
        "Given an array nums containing n distinct numbers in the range [0, n], return the only number in the range that is missing from the array.\n",
        "'''\n",
        "\n",
        "\n",
        "# Find Missing Element\n",
        "def findMissing(arr, N):\n",
        "\n",
        "    # create a list of zeroes\n",
        "    temp = [0] * (N+1)\n",
        "\n",
        "    for i in range(0, N):\n",
        "        temp[arr[i] - 1] = 1\n",
        "\n",
        "    for i in range(0, N+1):\n",
        "        if(temp[i] == 0):\n",
        "            ans = i + 1\n",
        "\n",
        "    print(ans)\n",
        "\n",
        "# Driver code\n",
        "if __name__ == '__main__':\n",
        "    arr = [1, 2, 3, 5]\n",
        "    N = len(arr)\n",
        "\n",
        "    # Function call\n",
        "    findMissing(arr, N)"
      ],
      "metadata": {
        "id": "fhyrbdjB58ux"
      },
      "execution_count": null,
      "outputs": []
    },
    {
      "cell_type": "code",
      "source": [
        "'''\n",
        "Given an array of integers `nums` containing `n + 1` integers where each integer is in the range `[1, n]` inclusive.\n",
        "\n",
        "There is only **one repeated number** in `nums`, return *this repeated number*.\n",
        "\n",
        "You must solve the problem **without** modifying the array `nums` and uses only constant extra space.\n",
        "'''\n",
        "\n",
        "\n",
        "# Python3 code to find duplicates in O(n) time\n",
        "numRay = [0, 4, 3, 2, 7, 8, 2, 3, 1]\n",
        "arr_size = len(numRay)\n",
        "for i in range(arr_size):\n",
        "\n",
        "    x = numRay[i] % arr_size\n",
        "    numRay[x] = numRay[x] + arr_size\n",
        "\n",
        "print(\"The repeating elements are : \")\n",
        "for i in range(arr_size):\n",
        "    if (numRay[i] >= arr_size*2):\n",
        "        print(i, \" \")"
      ],
      "metadata": {
        "id": "3l-twL_P58xD"
      },
      "execution_count": null,
      "outputs": []
    },
    {
      "cell_type": "code",
      "source": [
        "'''\n",
        "Given two integer arrays nums1 and nums2, return an array of their intersection. Each element in the result must be unique and you may return the result in any order.\n",
        "'''\n",
        "\n",
        "\n",
        "# Python program for the union of two arrays using Set\n",
        "def getUnion(a, n, b, m):\n",
        "\n",
        "    # Defining set container s\n",
        "    s = set()\n",
        "\n",
        "    # Inserting array elements in s\n",
        "    for i in range(n):\n",
        "        s.add(a[i])\n",
        "\n",
        "    for i in range(m):\n",
        "        s.add(b[i])\n",
        "    print(\"Number of elements after union operation: \", len(s), \"\")\n",
        "    print(\"The union set of both arrays is :\" + \"\")\n",
        "\n",
        "    print(s, end=\"\")  # s will contain only distinct\n",
        "    # elements from array a and b\n",
        "\n",
        "\n",
        "# Driver Code\n",
        "if __name__ == '__main__':\n",
        "    a = [1, 2, 5, 6, 2, 3, 5, 7, 3]\n",
        "    b = [2, 4, 5, 6, 8, 9, 4, 6, 5, 4]\n",
        "\n",
        "    getUnion(a, 9, b, 10)"
      ],
      "metadata": {
        "id": "k7tk9-x258zd"
      },
      "execution_count": null,
      "outputs": []
    },
    {
      "cell_type": "code",
      "source": [
        "'''\n",
        "*Question 6**\n",
        "\n",
        "Suppose an array of length `n` sorted in ascending order is **rotated** between `1` and `n` times. For example, the array `nums = [0,1,2,4,5,6,7]` might become:\n",
        "\n",
        "- `[4,5,6,7,0,1,2]` if it was rotated `4` times.\n",
        "- `[0,1,2,4,5,6,7]` if it was rotated `7` times.\n",
        "\n",
        "Notice that **rotating** an array `[a[0], a[1], a[2], ..., a[n-1]]` 1 time results in the array `[a[n-1], a[0], a[1], a[2], ..., a[n-2]]`.\n",
        "\n",
        "Given the sorted rotated array `nums` of **unique** elements, return *the minimum element of this array*.\n",
        "\n",
        "You must write an algorithm that runs in `O(log n) time.`\n",
        "\n",
        "\n",
        "'''\n",
        "\n",
        "\n",
        "\n",
        "\n",
        "# python3 code  to implement the approach\n",
        "\n",
        "def findMin(arr, N):\n",
        "\n",
        "    min_ele = arr[0];\n",
        "\n",
        "    # Traversing over array to\n",
        "    # find minimum element\n",
        "    for i in range(N) :\n",
        "        if arr[i] < min_ele :\n",
        "            min_ele = arr[i]\n",
        "\n",
        "    return min_ele;\n",
        "\n",
        "# Driver program\n",
        "arr = [11,13,15,17]\n",
        "N = len(arr)\n",
        "\n",
        "print(findMin(arr,N))"
      ],
      "metadata": {
        "colab": {
          "base_uri": "https://localhost:8080/"
        },
        "id": "bwaXeF3z583A",
        "outputId": "5bf574a1-1d72-403f-d943-7f7d5a45ca9e"
      },
      "execution_count": 2,
      "outputs": [
        {
          "output_type": "stream",
          "name": "stdout",
          "text": [
            "11\n"
          ]
        }
      ]
    },
    {
      "cell_type": "code",
      "source": [
        "'''\n",
        "Given two integer arrays nums1 and nums2, return an array of their intersection.\n",
        "Each element in the result must appear as many times as it shows in both arrays and you may return the result in any order.\n",
        "'''\n",
        "\n",
        "\n",
        "# Python program for the union of two arrays using Set\n",
        "def getUnion(a, n, b, m):\n",
        "\n",
        "    # Defining set container s\n",
        "    s = set()\n",
        "\n",
        "    # Inserting array elements in s\n",
        "    for i in range(n):\n",
        "        s.add(a[i])\n",
        "\n",
        "    for i in range(m):\n",
        "        s.add(b[i])\n",
        "    print(\"Number of elements after union operation: \", len(s), \"\")\n",
        "    print(\"The union set of both arrays is :\" + \"\")\n",
        "\n",
        "    print(s, end=\"\")  # s will contain only distinct\n",
        "    # elements from array a and b\n",
        "\n",
        "\n",
        "# Driver Code\n",
        "if __name__ == '__main__':\n",
        "    a = [1, 2, 2, 1]\n",
        "    b = [2,2]\n",
        "\n",
        "    getUnion(a, 4, b, 2)"
      ],
      "metadata": {
        "colab": {
          "base_uri": "https://localhost:8080/"
        },
        "id": "auVu51UJ5880",
        "outputId": "0a1f950d-a074-4aa4-9a1d-ec5aa8b88981"
      },
      "execution_count": 4,
      "outputs": [
        {
          "output_type": "stream",
          "name": "stdout",
          "text": [
            "Number of elements after union operation:  2 \n",
            "The union set of both arrays is :\n",
            "{1, 2}"
          ]
        }
      ]
    },
    {
      "cell_type": "code",
      "source": [],
      "metadata": {
        "id": "gKgPGdUX59AP"
      },
      "execution_count": null,
      "outputs": []
    }
  ]
}