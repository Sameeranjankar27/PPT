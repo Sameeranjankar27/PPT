{
  "nbformat": 4,
  "nbformat_minor": 0,
  "metadata": {
    "colab": {
      "provenance": []
    },
    "kernelspec": {
      "name": "python3",
      "display_name": "Python 3"
    },
    "language_info": {
      "name": "python"
    }
  },
  "cells": [
    {
      "cell_type": "code",
      "execution_count": null,
      "metadata": {
        "id": "d1WVM3wFKpBO"
      },
      "outputs": [],
      "source": [
        "\"\"\"Given two strings s and t, *determine if they are isomorphic*.\n",
        "\n",
        "Two strings s and t are isomorphic if the characters in s can be replaced to get t.\n",
        "\n",
        "All occurrences of a character must be replaced with another character while preserving the order of characters. No two characters may map to the same character, but a character may map to itself.\n",
        "\n",
        "**Example 1:**\n",
        "\n",
        "**Input:** s = \"egg\", t = \"add\"\n",
        "\n",
        "**Output:** true\n",
        "\"\"\"\n",
        "\n",
        "\n",
        "\n",
        "\n",
        "\n",
        "\n",
        "\n",
        "class Solution:\n",
        "    def isIsomorphic(self, s: str, t: str) -> bool:\n",
        "        \n",
        "        mapping_s_t = {}\n",
        "        mapping_t_s = {}\n",
        "        \n",
        "        for c1, c2 in zip(s, t):\n",
        "            \n",
        "            # Case 1: No mapping exists in either of the dictionaries\n",
        "            if (c1 not in mapping_s_t) and (c2 not in mapping_t_s):\n",
        "                mapping_s_t[c1] = c2\n",
        "                mapping_t_s[c2] = c1\n",
        "            \n",
        "            # Case 2: Ether mapping doesn't exist in one of the dictionaries or Mapping exists and\n",
        "            # it doesn't match in either of the dictionaries or both            \n",
        "            elif mapping_s_t.get(c1) != c2 or mapping_t_s.get(c2) != c1:\n",
        "                return False\n",
        "            \n",
        "        return True"
      ]
    },
    {
      "cell_type": "code",
      "source": [
        "\"\"\"Given a string num which represents an integer, return true *if* num *is a **strobogrammatic number***.\n",
        "\n",
        "A **strobogrammatic number** is a number that looks the same when rotated 180 degrees (looked at upside down).\n",
        "\n",
        "**Example 1:**\n",
        "\n",
        "**Input:** num = \"69\"\n",
        "\n",
        "**Output:**\n",
        "\n",
        "true\"\"\"\n",
        "\n",
        "\n",
        "class Solution(object):\n",
        "    def isStrobogrammatic(self, num):\n",
        "      \n",
        "        maps = {(\"0\", \"0\"), (\"1\", \"1\"), (\"6\", \"9\"), (\"8\", \"8\"), (\"9\", \"6\")}\n",
        "        i,j = 0, len(num) - 1\n",
        "        while i <= j:\n",
        "            if (num[i], num[j]) not in maps:\n",
        "                return False\n",
        "            i += 1\n",
        "            j -= 1\n",
        "        return True"
      ],
      "metadata": {
        "id": "JT_UU6e2MnLy"
      },
      "execution_count": null,
      "outputs": []
    },
    {
      "cell_type": "code",
      "source": [
        "\"\"\"Given two non-negative integers, num1 and num2 represented as string, return *the sum of* num1 *and* num2 *as a string*.\n",
        "\n",
        "You must solve the problem without using any built-in library for handling large integers (such as BigInteger). You must also not convert the inputs to integers directly.\n",
        "\n",
        "**Example 1:**\n",
        "\n",
        "**Input:** num1 = \"11\", num2 = \"123\"\n",
        "\n",
        "**Output:**\n",
        "\n",
        "\"134\"\"\"\"\n",
        "\n",
        "\n",
        "def addStrings(self, num1, num2):\n",
        "        result = \"\"\n",
        "        carry = 0\n",
        "\n",
        "        def equalizeNumberOfCharacters(num1, num2):\n",
        "            if len(num1) < len(num2):\n",
        "                while len(num1) != len(num2):\n",
        "                    num1 = \"0\" + num1\n",
        "            else:\n",
        "                while len(num2) != len(num1):\n",
        "                    num2 = \"0\" + num2\n",
        "            return [num1,num2]\n",
        "        \n",
        "        num1, num2 = equalizeNumberOfCharacters(num1, num2)\n",
        "        \n",
        "        num1Array = list(num1)\n",
        "        num2Array = list(num2)\n",
        "        \n",
        "        while len(num1Array) != 0:\n",
        "            add = int(num1Array.pop()) + int(num2Array.pop()) + int(carry)\n",
        "            carry = add // 10\n",
        "            result = str(add % 10) + result\n",
        "        \n",
        "        if carry != 0:\n",
        "            result = str(carry) + result\n",
        "        return result"
      ],
      "metadata": {
        "id": "dh-0NGAlMnOI"
      },
      "execution_count": null,
      "outputs": []
    },
    {
      "cell_type": "code",
      "source": [
        "\"\"\"Given a string s, reverse the order of characters in each word within a sentence while still preserving whitespace and initial word order.\n",
        "\n",
        "**Example 1:**\n",
        "\n",
        "**Input:** s = \"Let's take LeetCode contest\"\n",
        "\n",
        "**Output:** \"s'teL ekat edoCteeL tsetnoc\"\n",
        "\"\"\"\n",
        "\n",
        "class Solution(object):\n",
        "    def reverseWords(self, s):\n",
        "        return \" \".join(s.split(\" \")[::-1])[::-1]\n",
        "\n"
      ],
      "metadata": {
        "id": "-FhjKd6_MnP5"
      },
      "execution_count": null,
      "outputs": []
    },
    {
      "cell_type": "code",
      "source": [
        "\"\"\"Given two strings s and goal, return true *if and only if* s *can become* goal *after some number of **shifts** on* s.\n",
        "\n",
        "A **shift** on s consists of moving the leftmost character of s to the rightmost position.\n",
        "\n",
        "- For example, if s = \"abcde\", then it will be \"bcdea\" after one shift.\n",
        "\n",
        "**Example 1:**\n",
        "\n",
        "**Input:** s = \"abcde\", goal = \"cdeab\"\n",
        "\n",
        "**Output:**\n",
        "\n",
        "true\n",
        "\"\"\"\n",
        "\n",
        "\n",
        "class Solution :\n",
        "    def  rotateString(self, s,  goal) :\n",
        "        return (len(s) == len(goal) and  goal in (s + s) )"
      ],
      "metadata": {
        "id": "KJVy2w0SMnSP"
      },
      "execution_count": null,
      "outputs": []
    },
    {
      "cell_type": "code",
      "source": [
        "\"\"\"Given two strings s and t, return true *if they are equal when both are typed into empty text editors*. '#' means a backspace character.\n",
        "\n",
        "Note that after backspacing an empty text, the text will continue empty.\n",
        "\n",
        "**Example 1:**\n",
        "\n",
        "**Input:** s = \"ab#c\", t = \"ad#c\"\n",
        "\n",
        "**Output:** true\n",
        "\n",
        "**Explanation:**\n",
        "\n",
        "Both s and t become \"ac\".\n",
        "\"\"\"\n",
        "\n",
        "\n",
        "class Solution:\n",
        "    def backspaceCompare(self, S: str, T: str) -> bool:\n",
        "        def bckspc(string):\n",
        "            stack=[]\n",
        "            for i in string:\n",
        "                if i =='#':\n",
        "                    try:\n",
        "                        stack.pop()\n",
        "                    except:\n",
        "                        pass\n",
        "                else:\n",
        "                    stack.append(i)\n",
        "            return ''.join(stack)\n",
        "        return (bckspc(S)==bckspc(T))"
      ],
      "metadata": {
        "id": "6QHrWumzMnVr"
      },
      "execution_count": null,
      "outputs": []
    }
  ]
}