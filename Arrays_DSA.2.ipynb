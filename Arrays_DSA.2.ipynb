{
  "nbformat": 4,
  "nbformat_minor": 0,
  "metadata": {
    "colab": {
      "provenance": []
    },
    "kernelspec": {
      "name": "python3",
      "display_name": "Python 3"
    },
    "language_info": {
      "name": "python"
    }
  },
  "cells": [
    {
      "cell_type": "code",
      "execution_count": 2,
      "metadata": {
        "id": "AVbiPZCh6B9i"
      },
      "outputs": [],
      "source": [
        "'''Question 1\n",
        "Given an integer array nums of 2n integers, group these integers into n pairs (a1, b1), (a2, b2),..., (an, bn) such that the sum of min(ai, bi) for all i is maximized. Return the maximized sum.\n",
        "\n",
        "Example 1:\n",
        "Input: nums = [1,4,3,2]\n",
        "Output: 4\n",
        "'''\n",
        "\n",
        "\n",
        "\n",
        "class Solution(object):\n",
        "    def arrayPairSum(self, nums):\n",
        "        \"\"\"\n",
        "        :type nums: List[int]\n",
        "        :rtype: int\n",
        "        \"\"\"\n",
        "        nums.sort()\n",
        "        result = 0\n",
        "        numsLen = len(nums)\n",
        "        for i in range(0, numsLen - 1, 2):\n",
        "            result += nums[i]\n",
        "        return result"
      ]
    },
    {
      "cell_type": "code",
      "source": [
        "'''Question 2\n",
        "Alice has n candies, where the ith candy is of type candyType[i]. Alice noticed that she started to gain weight, so she visited a doctor.\n",
        "\n",
        "The doctor advised Alice to only eat n / 2 of the candies she has (n is always even). Alice likes her candies very much, and she wants to eat the\n",
        " maximum number of different types of candies while still following the doctor's advice.\n",
        "\n",
        "Given the integer array candyType of length n, return the maximum number of different types of candies she can eat if she only eats n / 2 of them.\n",
        "'''\n",
        "\n",
        "def max_candies(candyType):\n",
        "  max_num = len(set(candyType))\n",
        "  num_to_eat = len(candyType) // 2\n",
        "  return min(max_num, num_to_eat)\n",
        "candyType=list(map(int, input(\"Enter a list of candys separated by space: \").split()))\n",
        "max_candies = max_candies(candyType)\n",
        "print(max_candies)"
      ],
      "metadata": {
        "id": "4oJsVmut7HDg"
      },
      "execution_count": null,
      "outputs": []
    },
    {
      "cell_type": "code",
      "source": [
        "'''\n",
        "We define a harmonious array as an array where the difference between its maximum value\n",
        "and its minimum value is exactly 1.\n",
        "\n",
        "Given an integer array nums, return the length of its longest harmonious subsequence\n",
        "among all its possible subsequences.\n",
        "\n",
        "A subsequence of an array is a sequence that can be derived from the array by deleting some or no elements without changing the order of the remaining elements.\n",
        "'''\n",
        "\n",
        "\n",
        "\n",
        "class Solution(object):\n",
        "    def findLHS(self, nums):\n",
        "        \"\"\"\n",
        "        :type nums: List[int]\n",
        "        :rtype: int\n",
        "        \"\"\"\n",
        "        numsLen, left, result = len(nums), 0, 0\n",
        "        nums = sorted(nums)\n",
        "        for i in range(numsLen):\n",
        "            while left < i and nums[i] - nums[left] > 1L:\n",
        "                left += 1\n",
        "            if nums[i] - nums[left] == 1L:\n",
        "                result = max(i - left + 1, result)\n",
        "        return result"
      ],
      "metadata": {
        "id": "YVdmPSRf7HGg"
      },
      "execution_count": null,
      "outputs": []
    },
    {
      "cell_type": "code",
      "source": [
        "'''Question 4\n",
        "You have a long flowerbed in which some of the plots are planted, and some are not.\n",
        "However, flowers cannot be planted in adjacent plots.\n",
        "Given an integer array flowerbed containing 0's and 1's, where 0 means empty\n",
        " and 1 means not empty, and an integer n, return true if n new flowers can be planted in the flowerbed without violating the no-adjacent-flowers rule and false otherwise.\n",
        "'''\n",
        "\n",
        "\n",
        "\n",
        "\n",
        "\n",
        "\n",
        "class Solution:\n",
        "  def canPlaceFlowers(self, flowerbed: List[int], n: int) -> bool:\n",
        "    for i, flower in enumerate(flowerbed):\n",
        "      if flower == 0 and (i == 0 or flowerbed[i - 1] == 0) and (i == len(flowerbed) - 1 or flowerbed[i + 1] == 0):\n",
        "        flowerbed[i] = 1\n",
        "        n -= 1\n",
        "      if n <= 0:\n",
        "        return True\n",
        "\n",
        "    return False"
      ],
      "metadata": {
        "id": "ePxaMJ6v7HJH"
      },
      "execution_count": null,
      "outputs": []
    },
    {
      "cell_type": "code",
      "source": [
        "'''\n",
        "Question 5\n",
        "Given an integer array nums, find three numbers whose product is maximum and return the maximum product.\n",
        "\n",
        "Example 1:\n",
        "Input: nums = [1,2,3]\n",
        "Output: 6\n",
        "'''\n",
        "\n",
        "\n",
        "\n",
        "\n",
        "def largest_product_of_three(nums):\n",
        "    max_val = nums[1]\n",
        "\n",
        "    for i in range(len(nums)):\n",
        "        for j in range(i+1, len(nums)):\n",
        "            for k in range(j+1, len(nums)):\n",
        "                max_val = max(nums[i] * nums[j] * nums[k], max_val)\n",
        "\n",
        "    return max_val"
      ],
      "metadata": {
        "id": "JsIl2-Sa7HLx"
      },
      "execution_count": null,
      "outputs": []
    },
    {
      "cell_type": "code",
      "source": [
        "'''\n",
        "Question 6\n",
        "Given an array of integers nums which is sorted in ascending order, and an integer target,\n",
        "write a function to search target in nums. If target exists, then return its index. Otherwise,\n",
        "return -1.\n",
        "'''\n",
        "class Solution:\n",
        "    def search(self, nums: List[int], target: int) -> int:\n",
        "        l = 0\n",
        "        r = len(nums)-1\n",
        "\n",
        "        while l<=r:\n",
        "            m = l + (r-l)//2\n",
        "            if nums[m]>target:\n",
        "                r=m-1\n",
        "            elif nums[m]<target:\n",
        "                l=m+1\n",
        "            else:\n",
        "                return m\n",
        "        return -1\n"
      ],
      "metadata": {
        "id": "J6iPlsS07HOK"
      },
      "execution_count": null,
      "outputs": []
    },
    {
      "cell_type": "code",
      "source": [
        "'''\n",
        "Question 7\n",
        "An array is monotonic if it is either monotone increasing or monotone decreasing.\n",
        "\n",
        "An array nums is monotone increasing if for all i <= j, nums[i] <= nums[j]. An array nums is\n",
        "monotone decreasing if for all i <= j, nums[i] >= nums[j].\n",
        "\n",
        "Given an integer array nums, return true if the given array is monotonic, or false otherwise.\n",
        "\n",
        "Example 1:\n",
        "Input: nums = [1,2,2,3]\n",
        "Output: true\n",
        "'''\n",
        "# Python program for above approach\n",
        "\n",
        "# Function to check array is monotonic\n",
        "def check(arr):\n",
        "    N = len(arr)\n",
        "    inc = True\n",
        "    dec = True\n",
        "\n",
        "    # Loop to check if array is increasing\n",
        "    for i in range(0, N-1):\n",
        "\n",
        "        # To check if array is not increasing\n",
        "        if arr[i] > arr[i+1]:\n",
        "            inc = False\n",
        "\n",
        "    # Loop to check if array is decreasing\n",
        "    for i in range(0, N-1):\n",
        "\n",
        "       # To check if array is not decreasing\n",
        "        if arr[i] < arr[i+1]:\n",
        "            dec = False\n",
        "\n",
        "    # Pick one whether inc or dec\n",
        "    return inc or dec\n",
        "\n",
        "# Driver code\n",
        "if __name__ == \"__main__\":\n",
        "    arr = [1, 2, 3, 3]\n",
        "\n",
        "    # Function call\n",
        "    ans = check(arr)\n",
        "    if ans == True:\n",
        "        print(\"Yes\")\n",
        "    else:\n",
        "        print(\"No\")"
      ],
      "metadata": {
        "id": "kBLlUL6R7HQ3"
      },
      "execution_count": null,
      "outputs": []
    },
    {
      "cell_type": "code",
      "source": [
        "'''  $$$$$\n",
        "Question 8\n",
        "You are given an integer array nums and an integer k.\n",
        "\n",
        "In one operation, you can choose any index i where 0 <= i < nums.length and change nums[i] to nums[i] + x where x is an integer from the range [-k, k]. You can apply this operation at most once for each index i.\n",
        "\n",
        "The score of nums is the difference between the maximum and minimum elements in nums.\n",
        "\n",
        "Return the minimum score of nums after applying the mentioned operation at most once for each index in it.\n",
        "\n",
        "Example 1:\n",
        "Input: nums = [1], k = 0\n",
        "Output: 0\n",
        "\n",
        "Explanation: The score is max(nums) - min(nums) = 1 - 1 = 0.\n",
        "'''\n",
        "\n",
        "kases = int(raw_input())\n",
        "for kase in range(kases):\n",
        "    N = int(raw_input())\n",
        "    result = 1\n",
        "    for i in range(1, N + 1):\n",
        "        result = result * i\n",
        "    print result"
      ],
      "metadata": {
        "id": "QLQkk5zW7HTL"
      },
      "execution_count": null,
      "outputs": []
    },
    {
      "cell_type": "code",
      "source": [],
      "metadata": {
        "id": "irIQ6vki7HV4"
      },
      "execution_count": null,
      "outputs": []
    },
    {
      "cell_type": "code",
      "source": [],
      "metadata": {
        "id": "pIXlv_mH7HYM"
      },
      "execution_count": null,
      "outputs": []
    },
    {
      "cell_type": "code",
      "source": [],
      "metadata": {
        "id": "EcWrWUmB7Ha6"
      },
      "execution_count": null,
      "outputs": []
    },
    {
      "cell_type": "code",
      "source": [],
      "metadata": {
        "id": "6TOvzBIK7HdU"
      },
      "execution_count": null,
      "outputs": []
    },
    {
      "cell_type": "code",
      "source": [],
      "metadata": {
        "id": "VM8dohPP7HfW"
      },
      "execution_count": null,
      "outputs": []
    },
    {
      "cell_type": "code",
      "source": [],
      "metadata": {
        "id": "elZmsP0k7Hiw"
      },
      "execution_count": null,
      "outputs": []
    }
  ]
}