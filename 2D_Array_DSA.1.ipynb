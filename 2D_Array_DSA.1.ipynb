{
  "nbformat": 4,
  "nbformat_minor": 0,
  "metadata": {
    "colab": {
      "provenance": []
    },
    "kernelspec": {
      "name": "python3",
      "display_name": "Python 3"
    },
    "language_info": {
      "name": "python"
    }
  },
  "cells": [
    {
      "cell_type": "code",
      "execution_count": null,
      "metadata": {
        "id": "Qf8IhiDKGeT7"
      },
      "outputs": [],
      "source": [
        "'''\n",
        "<aside>\n",
        "💡 **Question 1**\n",
        "Given three integer arrays arr1, arr2 and arr3 **sorted** in **strictly increasing** order, return a sorted array of **only** the integers that appeared in **all** three arrays.\n",
        "\n",
        "**Example 1:**\n",
        "\n",
        "Input: arr1 = [1,2,3,4,5], arr2 = [1,2,5,7,9], arr3 = [1,3,4,5,8]\n",
        "\n",
        "Output: [1,5]\n",
        "\n",
        "**Explanation:** Only 1 and 5 appeared in the three arrays.\n",
        "\n",
        "</aside>\n",
        "'''\n",
        "\n",
        "def solution(a):\n",
        "    b = []\n",
        "    count_even = 0\n",
        "    count_odd = len(a)\n",
        "\n",
        "    for index, el in enumerate(a):\n",
        "        if index % 2 == 0:\n",
        "            b.append(a[count_even])\n",
        "            count_even = count_even + 1\n",
        "        else:\n",
        "            b.append(a[count_odd - 1])\n",
        "            count_odd = count_odd - 1\n",
        "\n",
        "    test_list1 = b[:]\n",
        "    test_list1.sort()\n",
        "\n",
        "    return test_list1 == b and len(b) == len(set(b))"
      ]
    },
    {
      "cell_type": "code",
      "source": [
        "'''\n",
        "**Question 2**\n",
        "\n",
        "Given two **0-indexed** integer arrays nums1 and nums2, return *a list* answer *of size* 2 *where:*\n",
        "\n",
        "- answer[0] *is a list of all **distinct** integers in* nums1 *which are **not** present in* nums2*.*\n",
        "- answer[1] *is a list of all **distinct** integers in* nums2 *which are **not** present in* nums1.\n",
        "\n",
        "**Note** that the integers in the lists may be returned in **any** order.\n",
        "\n",
        "**Example 1:**\n",
        "\n",
        "**Input:** nums1 = [1,2,3], nums2 = [2,4,6]\n",
        "\n",
        "**Output:** [[1,3],[4,6]]\n",
        "\n",
        "**Explanation:**\n",
        "\n",
        "For nums1, nums1[1] = 2 is present at index 0 of nums2, whereas nums1[0] = 1 and nums1[2] = 3 are not present in nums2. Therefore, answer[0] = [1,3].\n",
        "\n",
        "For nums2, nums2[0] = 2 is present at index 1 of nums1, whereas nums2[1] = 4 and nums2[2] = 6 are not present in nums2. Therefore, answer[1] = [4,6].\n",
        "\n",
        "</aside>\n",
        "'''\n",
        "\n"
      ],
      "metadata": {
        "id": "OmWpeSquGiVv"
      },
      "execution_count": null,
      "outputs": []
    },
    {
      "cell_type": "code",
      "source": [
        "'''\n",
        "\n",
        "*Question 3**\n",
        "Given a 2D integer array matrix, return *the **transpose** of* matrix.\n",
        "\n",
        "The **transpose** of a matrix is the matrix flipped over its main diagonal, switching the matrix's row and column indices.\n",
        "\n",
        "**Example 1:**\n",
        "\n",
        "Input: matrix = [[1,2,3],[4,5,6],[7,8,9]]\n",
        "\n",
        "Output: [[1,4,7],[2,5,8],[3,6,9]]\n",
        "\n",
        "</aside>\n",
        "'''\n",
        "\n",
        "\n",
        "# Python3 Program to find\n",
        "# transpose of a matrix\n",
        "\n",
        "N = 4\n",
        "\n",
        "# This function stores\n",
        "# transpose of A[][] in B[][]\n",
        "\n",
        "\n",
        "def transpose(A, B):\n",
        "\n",
        "    for i in range(N):\n",
        "        for j in range(N):\n",
        "            B[i][j] = A[j][i]\n",
        "\n",
        "\n",
        "# Driver code\n",
        "if __name__ == '__main__':\n",
        "  A = [[2 ,4 ,-1  ],\n",
        "       [-10 ,5 ,11],\n",
        "       [18 ,-7 , 6]]\n",
        "\n",
        "\n",
        "  # To store result\n",
        "  B = [[0 for x in range(N)] for y in range(N)]\n",
        "\n",
        "  # Function call\n",
        "  transpose(A, B)\n",
        "\n",
        "  print(\"Result matrix is\")\n",
        "  for i in range(N):\n",
        "      for j in range(N):\n",
        "          print(B[i][j], \" \", end='')\n",
        "      print()\n",
        "\n",
        "\n"
      ],
      "metadata": {
        "id": "0YWIVeaXGiYg"
      },
      "execution_count": null,
      "outputs": []
    },
    {
      "cell_type": "code",
      "source": [
        "'''\n",
        "<aside>\n",
        "💡 **Question 4**\n",
        "Given an integer array nums of 2n integers, group these integers into n pairs (a1, b1), (a2, b2), ..., (an, bn) such that the sum of min(ai, bi) for all i is **maximized**. Return *the maximized sum*.\n",
        "\n",
        "**Example 1:**\n",
        "\n",
        "Input: nums = [1,4,3,2]\n",
        "\n",
        "Output: 4\n",
        "\n",
        "**Explanation:** All possible pairings (ignoring the ordering of elements) are:\n",
        "\n",
        "1. (1, 4), (2, 3) -> min(1, 4) + min(2, 3) = 1 + 2 = 3\n",
        "\n",
        "2. (1, 3), (2, 4) -> min(1, 3) + min(2, 4) = 1 + 2 = 3\n",
        "\n",
        "3. (1, 2), (3, 4) -> min(1, 2) + min(3, 4) = 1 + 3 = 4\n",
        "\n",
        "So the maximum possible sum is 4.\n",
        "\n",
        "</aside>\n",
        "'''\n",
        "\n",
        "class Solution:\n",
        "    def arrayPairSum(self, nums: List[int]) -> int:\n",
        "        nums.sort()\n",
        "        r=0\n",
        "        for i in range(0,len(nums),2):\n",
        "            r+=min(nums[i],nums[i+1])\n",
        "        return(r)"
      ],
      "metadata": {
        "id": "bdBDV2ZkGiay"
      },
      "execution_count": null,
      "outputs": []
    },
    {
      "cell_type": "code",
      "source": [
        "'''\n",
        "<aside>\n",
        "💡 **Question 6**\n",
        "Given an integer array nums sorted in **non-decreasing** order, return *an array of **the squares of each number** sorted in non-decreasing order*.\n",
        "\n",
        "**Example 1:**\n",
        "\n",
        "Input: nums = [-4,-1,0,3,10]\n",
        "\n",
        "Output: [0,1,9,16,100]\n",
        "\n",
        "**Explanation:** After squaring, the array becomes [16,1,0,9,100].\n",
        "After sorting, it becomes [0,1,9,16,100]\n",
        "\n",
        "</aside>\n",
        "'''\n",
        "\n",
        "\n",
        "\n",
        "# Python program to Sort square\n",
        "# of the numbers of the array\n",
        "\n",
        "# Function to sort an square array\n",
        "def sortSquare(arr, n):\n",
        "\n",
        "    # First convert each array\n",
        "    # elements into its square\n",
        "    for i in range(n):\n",
        "        arr[i]= arr[i] * arr[i]\n",
        "    arr.sort()\n",
        "\n",
        "# Driver code\n",
        "arr = [-6, -3, -1, 2, 4, 5]\n",
        "n = len(arr)\n",
        "\n",
        "print(\"Before sort\")\n",
        "for i in range(n):\n",
        "    print(arr[i], end = \" \")\n",
        "\n",
        "print(\"\\n\")\n",
        "\n",
        "sortSquare(arr, n)\n",
        "\n",
        "print(\"After sort\")\n",
        "for i in range(n):\n",
        "    print(arr[i], end = \" \")"
      ],
      "metadata": {
        "id": "2aHD4ZE0Gid_"
      },
      "execution_count": null,
      "outputs": []
    },
    {
      "cell_type": "code",
      "source": [
        "'''\n",
        " **Question 8**\n",
        "\n",
        "Given the array nums consisting of 2n elements in the form [x1,x2,...,xn,y1,y2,...,yn].\n",
        "\n",
        "*Return the array in the form* [x1,y1,x2,y2,...,xn,yn].\n",
        "\n",
        "**Example 1:**\n",
        "\n",
        "**Input:** nums = [2,5,1,3,4,7], n = 3\n",
        "\n",
        "**Output:** [2,3,5,4,1,7]\n",
        "\n",
        "**Explanation:** Since x1=2, x2=5, x3=1, y1=3, y2=4, y3=7 then the answer is [2,3,5,4,1,7].\n",
        "\n",
        "</aside>\n",
        "'''\n",
        "\n",
        "\n"
      ],
      "metadata": {
        "id": "2DPII6tlGifj"
      },
      "execution_count": null,
      "outputs": []
    },
    {
      "cell_type": "code",
      "source": [],
      "metadata": {
        "id": "CrHNi5NYGiiM"
      },
      "execution_count": null,
      "outputs": []
    },
    {
      "cell_type": "code",
      "source": [],
      "metadata": {
        "id": "u0ubckJmGikW"
      },
      "execution_count": null,
      "outputs": []
    },
    {
      "cell_type": "code",
      "source": [],
      "metadata": {
        "id": "TjQMu4tNGim7"
      },
      "execution_count": null,
      "outputs": []
    },
    {
      "cell_type": "code",
      "source": [],
      "metadata": {
        "id": "hz1CYaOrGiqV"
      },
      "execution_count": null,
      "outputs": []
    }
  ]
}