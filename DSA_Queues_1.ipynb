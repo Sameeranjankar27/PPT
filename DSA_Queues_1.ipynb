{
  "nbformat": 4,
  "nbformat_minor": 0,
  "metadata": {
    "colab": {
      "provenance": []
    },
    "kernelspec": {
      "name": "python3",
      "display_name": "Python 3"
    },
    "language_info": {
      "name": "python"
    }
  },
  "cells": [
    {
      "cell_type": "code",
      "execution_count": null,
      "metadata": {
        "id": "ivN21gVobRoA"
      },
      "outputs": [],
      "source": [
        "'''\n",
        "Given a string s, find the first non-repeating character in it and return its index. If it does not exist, return -1.\n",
        "'''\n",
        "\n",
        "\n",
        "# Python program to print the first non-repeating character\n",
        "\n",
        "string = \"geeksforgeeks\"\n",
        "index = -1\n",
        "fnc = \"\"\n",
        "\n",
        "if len(string) == 0 :\n",
        "  print(\"EMTPY STRING\");\n",
        "\n",
        "for i in string:\n",
        "    if string.count(i) == 1:\n",
        "        fnc += i\n",
        "        break\n",
        "    else:\n",
        "        index += 1\n",
        "if index == len(string)-1 :\n",
        "    print(\"All characters are repeating \")\n",
        "else:\n",
        "    print(\"First non-repeating character is\", fnc)"
      ]
    },
    {
      "cell_type": "code",
      "source": [
        "'''\n",
        "Given a **circular integer array** `nums` of length `n`, return *the maximum possible sum of a non-empty **subarray** of* `nums`.\n",
        "\n",
        "A **circular array** means the end of the array connects to the beginning of the array.\n",
        " Formally, the next element of `nums[i]` is `nums[(i + 1) % n]` and the previous element of `nums[i]` is `nums[(i - 1 + n) % n]`.\n",
        "\n",
        "A **subarray** may only include each element of the fixed buffer `nums` at most once. Formally,\n",
        "for a subarray `nums[i], nums[i + 1], ..., nums[j]`, there does not exist `i <= k1`, `k2 <= j` with `k1 % n == k2 % n`.\n",
        "'''\n",
        "\n",
        "\n",
        "# Python program for maximum contiguous circular sum problem\n",
        "\n",
        "# The function returns maximum\n",
        "# circular contiguous sum in a[]\n",
        "def maxCircularSum(a, n):\n",
        "\n",
        "    # Corner Case\n",
        "    if (n == 1):\n",
        "        return a[0]\n",
        "\n",
        "    # Initialize sum variable which\n",
        "    # store total sum of the array.\n",
        "    sum = 0\n",
        "    for i in range(n):\n",
        "        sum += a[i]\n",
        "\n",
        "    # Initialize every variable\n",
        "    # with first value of array.\n",
        "    curr_max = a[0]\n",
        "    max_so_far = a[0]\n",
        "    curr_min = a[0]\n",
        "    min_so_far = a[0]\n",
        "\n",
        "    # Concept of Kadane's Algorithm\n",
        "    for i in range(1, n):\n",
        "\n",
        "        # Kadane's Algorithm to find Maximum subarray sum.\n",
        "        curr_max = max(curr_max + a[i], a[i])\n",
        "        max_so_far = max(max_so_far, curr_max)\n",
        "\n",
        "        # Kadane's Algorithm to find Minimum subarray sum.\n",
        "        curr_min = min(curr_min + a[i], a[i])\n",
        "        min_so_far = min(min_so_far, curr_min)\n",
        "    if (min_so_far == sum):\n",
        "        return max_so_far\n",
        "\n",
        "    # returning the maximum value\n",
        "    return max(max_so_far, sum - min_so_far)\n",
        "\n",
        "# Driver code\n",
        "a = [-3 ,-2 ,-3]\n",
        "n = len(a)\n",
        "print(\"Maximum circular sum is\", maxCircularSum(a, n))"
      ],
      "metadata": {
        "colab": {
          "base_uri": "https://localhost:8080/"
        },
        "id": "bZdAGOXKbXHF",
        "outputId": "7db7b640-6e61-4801-82c5-e38415709e7b"
      },
      "execution_count": 1,
      "outputs": [
        {
          "output_type": "stream",
          "name": "stdout",
          "text": [
            "Maximum circular sum is -2\n"
          ]
        }
      ]
    },
    {
      "cell_type": "code",
      "source": [
        "'''\n",
        "The school cafeteria offers circular and square sandwiches at lunch break, referred to by numbers `0` and `1` respectively. All students stand in a queue.\n",
        " Each student either prefers square or circular sandwiches.\n",
        "\n",
        "The number of sandwiches in the cafeteria is equal to the number of students. The sandwiches are placed in a **stack**. At each step:\n",
        "\n",
        "- If the student at the front of the queue **prefers** the sandwich on the top of the stack, they will **take it** and leave the queue.\n",
        "- Otherwise, they will **leave it** and go to the queue's end.\n",
        "\n",
        "This continues until none of the queue students want to take the top sandwich and are thus unable to eat.\n",
        "\n",
        "You are given two integer arrays `students` and `sandwiches` where `sandwiches[i]` is the type of the `ith` sandwich in\n",
        "the stack (`i = 0` is the top of the stack) and `students[j]` is the preference of the `jth` student in the initial queue (`j = 0` is the front of the queue). Return *the\n",
        "number of students that are unable to eat.*\n",
        "Input: students = [1,1,1,0,0,1], sandwiches = [1,0,0,0,1,1]\n",
        "Output: 3\n",
        "'''\n",
        "class Solution(object):\n",
        "    def countStudents(self, students, sandwiches):\n",
        "        \"\"\"\n",
        "        :type students: List[int]\n",
        "        :type sandwiches: List[int]\n",
        "        :rtype: int\n",
        "        \"\"\"\n",
        "        count = 0\n",
        "        while students:\n",
        "            student = students.pop(0)\n",
        "            if student == sandwiches[0]:\n",
        "                count=0\n",
        "                sandwiches.pop(0)\n",
        "            else:\n",
        "                count+=1\n",
        "                students.append(student)\n",
        "            if count==len(students):\n",
        "                break\n",
        "        return len(students)\n"
      ],
      "metadata": {
        "id": "7ob9vEIDbXJi"
      },
      "execution_count": null,
      "outputs": []
    },
    {
      "cell_type": "code",
      "source": [
        "'''\n",
        "You have a `RecentCounter` class which counts the number of recent requests within a certain time frame.\n",
        "\n",
        "Implement the `RecentCounter` class:\n",
        "\n",
        "- `RecentCounter()` Initializes the counter with zero recent requests.\n",
        "- `int ping(int t)` Adds a new request at time `t`, where `t` represents some time in milliseconds,\n",
        "and returns the number of requests that has happened in the past `3000` milliseconds (including the new request).\n",
        "Specifically, return the number of requests that have happened in the inclusive range `[t - 3000, t]`.\n",
        "\n",
        "It is **guaranteed** that every call to `ping` uses a strictly larger value of `t` than the previous call\n",
        "'''\n",
        "\n",
        "class RecentCounter:\n",
        "\n",
        "   def __init__(self):\n",
        "       pass\n",
        "\n",
        "   def ping(self, t: int) -> int:\n",
        "       # your code\n",
        "\n",
        "\n",
        "\n",
        "def recent_counter_main(calls: int) -> list:\n",
        "    output_list = []\n",
        "    rc = RecentCounter()\n",
        "    for call in calls:\n",
        "        output_list.append(rc.ping(call))\n",
        "    return output_list"
      ],
      "metadata": {
        "id": "-9v1OcJHbXL7"
      },
      "execution_count": null,
      "outputs": []
    },
    {
      "cell_type": "code",
      "source": [
        "'''\n",
        "There are n friends that are playing a game. The friends are sitting in a circle and are numbered from 1 to n in clockwise order.\n",
        "More formally, moving clockwise from the ith friend brings you to the (i+1)th friend for 1 <= i < n, and moving clockwise from the nth friend brings you to the 1st friend.\n",
        "'''\n",
        "\n"
      ],
      "metadata": {
        "id": "AbWZtUlsbXRE"
      },
      "execution_count": null,
      "outputs": []
    },
    {
      "cell_type": "code",
      "source": [
        "'''$$$\n",
        "You are given an integer array `deck`. There is a deck of cards where every card has a unique integer. The integer on the `ith` card is `deck[i]`.\n",
        "\n",
        "You can order the deck in any order you want. Initially, all the cards start face down (unrevealed) in one deck.\n",
        "\n",
        "'''\n",
        "\n",
        "# Python Program to implement\n",
        "# the above approach\n",
        "\n",
        "# Function to find maximum possible decks\n",
        "# with given frequency of cards and\n",
        "# number of jokers\n",
        "def maximumCardDecks(arr, n, k):\n",
        "\n",
        "    # Sort the whole array\n",
        "    arr.sort()\n",
        "\n",
        "    # Store the binary search range\n",
        "    L = 0\n",
        "    R = arr[n - 1] + k + 1\n",
        "\n",
        "    # Do a binary search on range\n",
        "    while (L + 1 < R) :\n",
        "\n",
        "        # Compute the mid value of the current\n",
        "        # binary search range\n",
        "        mid = (L + R) // 2\n",
        "\n",
        "        # Store extra needed\n",
        "        need = 0\n",
        "\n",
        "        # Iterate over the total cards and\n",
        "        # compute variable need.\n",
        "        for i in range(n):\n",
        "            if (arr[i] < mid):\n",
        "                need += mid - arr[i]\n",
        "\n",
        "        if (need <= mid and need <= k):\n",
        "            L = mid\n",
        "        else:\n",
        "            R = mid\n",
        "\n",
        "    return L\n",
        "\n",
        "# Driver Code\n",
        "N = 3\n",
        "K = 4\n",
        "arr = [1, 2, 3]\n",
        "print(maximumCardDecks(arr, N, K))"
      ],
      "metadata": {
        "id": "OH_PHWUHbXUw"
      },
      "execution_count": null,
      "outputs": []
    },
    {
      "cell_type": "code",
      "source": [],
      "metadata": {
        "id": "XcSx3p_TbXWU"
      },
      "execution_count": null,
      "outputs": []
    },
    {
      "cell_type": "code",
      "source": [],
      "metadata": {
        "id": "EhDBmwEvbXZw"
      },
      "execution_count": null,
      "outputs": []
    },
    {
      "cell_type": "code",
      "source": [],
      "metadata": {
        "id": "hx2ntvt9bXfx"
      },
      "execution_count": null,
      "outputs": []
    }
  ]
}